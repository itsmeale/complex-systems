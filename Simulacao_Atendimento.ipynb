{
  "nbformat": 4,
  "nbformat_minor": 0,
  "metadata": {
    "colab": {
      "name": "Simulacao-Atendimento_Clientes_Impacientes.ipynb",
      "version": "0.3.2",
      "provenance": [],
      "collapsed_sections": []
    },
    "kernelspec": {
      "name": "python3",
      "display_name": "Python 3"
    }
  },
  "cells": [
    {
      "cell_type": "markdown",
      "metadata": {
        "id": "JD5ouc6dXouF",
        "colab_type": "text"
      },
      "source": [
        "# Simulação de Atendimento"
      ]
    },
    {
      "cell_type": "markdown",
      "metadata": {
        "id": "hFm5MVPWXWDE",
        "colab_type": "text"
      },
      "source": [
        "## Bibliotecas necessárias"
      ]
    },
    {
      "cell_type": "code",
      "metadata": {
        "id": "QGc9fBoEsa_p",
        "colab_type": "code",
        "colab": {}
      },
      "source": [
        "import matplotlib.pyplot as plt\n",
        "import numpy as np\n",
        "from numba import jit\n",
        "from tqdm import tqdm\n",
        "\n",
        "# Para documentacao do codigo\n",
        "from typing import List"
      ],
      "execution_count": 0,
      "outputs": []
    },
    {
      "cell_type": "markdown",
      "metadata": {
        "id": "fYJf7s1Zbzxh",
        "colab_type": "text"
      },
      "source": [
        "## Implementações"
      ]
    },
    {
      "cell_type": "markdown",
      "metadata": {
        "id": "kIIzLmlAXNqX",
        "colab_type": "text"
      },
      "source": [
        "### Simulação"
      ]
    },
    {
      "cell_type": "code",
      "metadata": {
        "id": "zAy2ZneLb3L8",
        "colab_type": "code",
        "colab": {}
      },
      "source": [
        "@jit(nopython=False)\n",
        "def simulacao(n_guiches: int, lambd: int, tempo_atendimento: float, t_max: int) -> List[int]:\n",
        "    \"\"\"Realiza uma simulacao e retorna a quantidade\n",
        "    de requicioes aceitas e rejeitadas.\n",
        "    \"\"\"\n",
        "    guiches = np.zeros(n_guiches)\n",
        "    aceitas = rejeitadas = tempo_atual = 0\n",
        "    z = expovariate(lambd)\n",
        "\n",
        "    while tempo_atual + z <= t_max:\n",
        "        tempo_atual = tempo_atual + z\n",
        "        prox_linha_disponivel = np.argmin(guiches)\n",
        "\n",
        "        if guiches[prox_linha_disponivel] <= tempo_atual:\n",
        "            guiches[prox_linha_disponivel] = tempo_atual + tempo_atendimento\n",
        "            aceitas += 1\n",
        "        else:\n",
        "            rejeitadas += 1\n",
        "\n",
        "        z = expovariate(lambd)\n",
        "\n",
        "    return [aceitas, rejeitadas]"
      ],
      "execution_count": 0,
      "outputs": []
    },
    {
      "cell_type": "code",
      "metadata": {
        "id": "DrBt-Vxy0rHK",
        "colab_type": "code",
        "colab": {}
      },
      "source": [
        "@jit(nopython=False)\n",
        "def rep_simulacao(n_guiches: int, lambd: int, tempo_atendimento: float, t_max: int, N: int) -> List[List[int]]:\n",
        "    \"\"\"Realiza N simulacoes e retorna a lista de \n",
        "    requisicoes aceitas e rejeitadas em cada simulacao\n",
        "    \"\"\"\n",
        "    X = np.array(list())\n",
        "    Y = np.array(list())\n",
        "    np_append = np.append\n",
        "    \n",
        "    for i in range(N):\n",
        "        x, y = simulacao(n_guiches, lambd, tempo_atendimento, t_max)\n",
        "        X = np_append(X, x)\n",
        "        Y = np_append(Y, y)\n",
        "\n",
        "    return X, Y, Y/(X+Y)"
      ],
      "execution_count": 0,
      "outputs": []
    },
    {
      "cell_type": "markdown",
      "metadata": {
        "id": "mgHHUyeCtpPg",
        "colab_type": "text"
      },
      "source": [
        "## Parâmetros"
      ]
    },
    {
      "cell_type": "code",
      "metadata": {
        "id": "PGQwAmTXtsd4",
        "colab_type": "code",
        "colab": {}
      },
      "source": [
        "n_guiches = 2\n",
        "tempo_atendimento = 2\n",
        "lambd = 2\n",
        "t_max = 50\n",
        "N = 20000"
      ],
      "execution_count": 0,
      "outputs": []
    },
    {
      "cell_type": "markdown",
      "metadata": {
        "id": "ZTwPtE2UYFmp",
        "colab_type": "text"
      },
      "source": [
        "## Experimento"
      ]
    },
    {
      "cell_type": "code",
      "metadata": {
        "id": "fsLrf5TVaxJg",
        "colab_type": "code",
        "colab": {}
      },
      "source": [
        "X, Y, W = rep_simulacao(n_guiches, tempo_atendimento, lambd, t_max, N)"
      ],
      "execution_count": 0,
      "outputs": []
    },
    {
      "cell_type": "code",
      "metadata": {
        "id": "qmd9iskCa9Ag",
        "colab_type": "code",
        "outputId": "4612fe62-2f94-4fe6-a481-932c2ae50c40",
        "colab": {
          "base_uri": "https://localhost:8080/",
          "height": 68
        }
      },
      "source": [
        "print(f\"Média de requisições aceitas: {X.mean()}\")\n",
        "print(f\"Média de requisições rejeitadas: {Y.mean()}\")\n",
        "print(f\"Proporção de requisições rejeitadas: {(Y/(X+Y)).mean()}\")"
      ],
      "execution_count": 154,
      "outputs": [
        {
          "output_type": "stream",
          "text": [
            "Média de requisições aceitas: 38.88005\n",
            "Média de requisições rejeitadas: 61.12125\n",
            "Proporção de requisições rejeitadas: 0.6082709410605356\n"
          ],
          "name": "stdout"
        }
      ]
    },
    {
      "cell_type": "markdown",
      "metadata": {
        "id": "mXZjXQBYYHcp",
        "colab_type": "text"
      },
      "source": [
        "## Visualização dos resultados"
      ]
    },
    {
      "cell_type": "markdown",
      "metadata": {
        "id": "4iGWtgUsY1J7",
        "colab_type": "text"
      },
      "source": [
        "### Histograma de requisições aceitas e rejeitadas\n",
        "\n"
      ]
    },
    {
      "cell_type": "code",
      "metadata": {
        "id": "_zwRo7RzZw2f",
        "colab_type": "code",
        "outputId": "a78df077-af08-4d66-f16a-3471d6a2f9c6",
        "colab": {
          "base_uri": "https://localhost:8080/",
          "height": 390
        }
      },
      "source": [
        "fig, (ax1, ax2, ax3) = plt.subplots(1, 3, figsize=(16, 6))\n",
        "ax1.hist(X, alpha=.6, color='green')\n",
        "ax1.set_title('Histograma de requisições aceitas')\n",
        "ax2.hist(Y, alpha=.6, color='red')\n",
        "ax2.set_title('Histograma de requisições rejeitadas')\n",
        "ax3.hist(W, alpha=.6, color='purple')\n",
        "ax3.set_title('Histograma de proporção de requisições rejeitadas')\n",
        "plt.show()"
      ],
      "execution_count": 161,
      "outputs": [
        {
          "output_type": "display_data",
          "data": {
            "image/png": "[encoded data removed]",
            "text/plain": [
              "<Figure size 1152x432 with 3 Axes>"
            ]
          },
          "metadata": {
            "tags": []
          }
        }
      ]
    },
    {
      "cell_type": "markdown",
      "metadata": {
        "id": "JDL4-mG-rx-Y",
        "colab_type": "text"
      },
      "source": [
        "### Convergência da média de requisições rejeitadas"
      ]
    },
    {
      "cell_type": "code",
      "metadata": {
        "id": "8zg0e8mwsMpQ",
        "colab_type": "code",
        "colab": {}
      },
      "source": [
        "iters = list(range(100, N, 100))\n",
        "E = list()\n",
        "\n",
        "for i in range(len(iters)):\n",
        "    last_iter = iters[i]\n",
        "    E.append(sum(W[1:last_iter]/last_iter))"
      ],
      "execution_count": 0,
      "outputs": []
    },
    {
      "cell_type": "code",
      "metadata": {
        "id": "UU-0EpHFU6l0",
        "colab_type": "code",
        "outputId": "746944ea-4530-4732-c3a3-d9cc83515f6b",
        "colab": {
          "base_uri": "https://localhost:8080/",
          "height": 499
        }
      },
      "source": [
        "fig, axes = plt.subplots(1,  figsize=(16, 8))\n",
        "plt.plot(iters, E, color='purple')\n",
        "plt.title('Convergencia da proporção de rejeitadas')\n",
        "plt.show()"
      ],
      "execution_count": 162,
      "outputs": [
        {
          "output_type": "display_data",
          "data": {
            "image/png": "[encoded data removed]",
            "text/plain": [
              "<Figure size 1152x576 with 1 Axes>"
            ]
          },
          "metadata": {
            "tags": []
          }
        }
      ]
    },
    {
      "cell_type": "code",
      "metadata": {
        "id": "F6a6C3d6Vd15",
        "colab_type": "code",
        "colab": {}
      },
      "source": [
        ""
      ],
      "execution_count": 0,
      "outputs": []
    }
  ]
}